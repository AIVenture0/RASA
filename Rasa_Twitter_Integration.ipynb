{
 "cells": [
  {
   "cell_type": "code",
   "execution_count": 2,
   "metadata": {},
   "outputs": [
    {
     "name": "stdout",
     "output_type": "stream",
     "text": [
      "Collecting tweepy\n",
      "  Downloading tweepy-3.9.0-py2.py3-none-any.whl (30 kB)\n",
      "Requirement already satisfied: six>=1.10.0 in d:\\software\\anaconda\\envs\\rasa\\lib\\site-packages (from tweepy) (1.15.0)\n",
      "Requirement already satisfied: requests-oauthlib>=0.7.0 in d:\\software\\anaconda\\envs\\rasa\\lib\\site-packages (from tweepy) (1.3.0)\n",
      "Requirement already satisfied: requests[socks]>=2.11.1 in d:\\software\\anaconda\\envs\\rasa\\lib\\site-packages (from tweepy) (2.24.0)\n",
      "Requirement already satisfied: oauthlib>=3.0.0 in d:\\software\\anaconda\\envs\\rasa\\lib\\site-packages (from requests-oauthlib>=0.7.0->tweepy) (3.1.0)\n",
      "Requirement already satisfied: certifi>=2017.4.17 in d:\\software\\anaconda\\envs\\rasa\\lib\\site-packages (from requests[socks]>=2.11.1->tweepy) (2020.6.20)\n",
      "Requirement already satisfied: urllib3!=1.25.0,!=1.25.1,<1.26,>=1.21.1 in d:\\software\\anaconda\\envs\\rasa\\lib\\site-packages (from requests[socks]>=2.11.1->tweepy) (1.25.9)\n",
      "Requirement already satisfied: idna<3,>=2.5 in d:\\software\\anaconda\\envs\\rasa\\lib\\site-packages (from requests[socks]>=2.11.1->tweepy) (2.10)\n",
      "Requirement already satisfied: chardet<4,>=3.0.2 in d:\\software\\anaconda\\envs\\rasa\\lib\\site-packages (from requests[socks]>=2.11.1->tweepy) (3.0.4)\n",
      "Requirement already satisfied: PySocks!=1.5.7,>=1.5.6; extra == \"socks\" in d:\\software\\anaconda\\envs\\rasa\\lib\\site-packages (from requests[socks]>=2.11.1->tweepy) (1.7.1)\n",
      "Installing collected packages: tweepy\n",
      "Successfully installed tweepy-3.9.0\n"
     ]
    }
   ],
   "source": [
    "!pip install tweepy"
   ]
  },
  {
   "cell_type": "code",
   "execution_count": 1,
   "metadata": {},
   "outputs": [],
   "source": [
    "import tweepy\n",
    "import requests\n",
    "import pandas as pd"
   ]
  },
  {
   "cell_type": "code",
   "execution_count": 2,
   "metadata": {},
   "outputs": [],
   "source": [
    "consumer_key = \"Ut3PEFtWSaZJVXldCXOZiHmWd\" \n",
    "consumer_secret = \"dRquwZC4LSwVBmiTivKHNFQNFgaxiGf6u1PPJkeU4HR5I2X3RN\"\n",
    "access_key = \"4853192350-s7uTQnmjC5Hu0GrQLuyZSLlJbeZOFaTZHbUaoIe\"\n",
    "access_secret = \"zVcMcBJQJGlUrQjMr7wMOxjYxzDePv0RDPEiRAj5DoMCI\""
   ]
  },
  {
   "cell_type": "code",
   "execution_count": 3,
   "metadata": {},
   "outputs": [],
   "source": [
    "auth = tweepy.AppAuthHandler(consumer_key, consumer_secret)\n",
    "api = tweepy.API(auth, wait_on_rate_limit=True, wait_on_rate_limit_notify=True)"
   ]
  },
  {
   "cell_type": "code",
   "execution_count": 4,
   "metadata": {},
   "outputs": [
    {
     "data": {
      "text/plain": [
       "<tweepy.auth.AppAuthHandler at 0x26d43540348>"
      ]
     },
     "execution_count": 4,
     "metadata": {},
     "output_type": "execute_result"
    }
   ],
   "source": [
    "auth"
   ]
  },
  {
   "cell_type": "code",
   "execution_count": 5,
   "metadata": {},
   "outputs": [
    {
     "data": {
      "text/plain": [
       "<tweepy.api.API at 0x26d43181b08>"
      ]
     },
     "execution_count": 5,
     "metadata": {},
     "output_type": "execute_result"
    }
   ],
   "source": [
    "api"
   ]
  },
  {
   "cell_type": "code",
   "execution_count": 23,
   "metadata": {},
   "outputs": [],
   "source": [
    "test_tweet = 'hi, i am not able to select seats for free can you pls assest me'"
   ]
  },
  {
   "cell_type": "code",
   "execution_count": 8,
   "metadata": {},
   "outputs": [
    {
     "ename": "NameError",
     "evalue": "name 'test_tweet' is not defined",
     "output_type": "error",
     "traceback": [
      "\u001b[1;31m---------------------------------------------------------------------------\u001b[0m",
      "\u001b[1;31mNameError\u001b[0m                                 Traceback (most recent call last)",
      "\u001b[1;32m<ipython-input-8-dd0033471f80>\u001b[0m in \u001b[0;36m<module>\u001b[1;34m\u001b[0m\n\u001b[1;32m----> 1\u001b[1;33m \u001b[0mpayload\u001b[0m \u001b[1;33m=\u001b[0m \u001b[1;33m{\u001b[0m\u001b[1;34m\"sender\"\u001b[0m\u001b[1;33m:\u001b[0m\u001b[1;34m\"pranali\"\u001b[0m\u001b[1;33m,\u001b[0m\u001b[1;34m\"message\"\u001b[0m\u001b[1;33m:\u001b[0m\u001b[0mtest_tweet\u001b[0m\u001b[1;33m}\u001b[0m\u001b[1;33m\u001b[0m\u001b[1;33m\u001b[0m\u001b[0m\n\u001b[0m\u001b[0;32m      2\u001b[0m \u001b[0mheaders\u001b[0m \u001b[1;33m=\u001b[0m \u001b[1;33m{\u001b[0m\u001b[1;34m'content-type'\u001b[0m\u001b[1;33m:\u001b[0m \u001b[1;34m'application/json'\u001b[0m\u001b[1;33m}\u001b[0m\u001b[1;33m\u001b[0m\u001b[1;33m\u001b[0m\u001b[0m\n\u001b[0;32m      3\u001b[0m \u001b[0mr\u001b[0m \u001b[1;33m=\u001b[0m \u001b[0mrequests\u001b[0m\u001b[1;33m.\u001b[0m\u001b[0mpost\u001b[0m\u001b[1;33m(\u001b[0m\u001b[1;34m'http://localhost:5005/webhooks/rest/webhook'\u001b[0m\u001b[1;33m,\u001b[0m \u001b[0mjson\u001b[0m\u001b[1;33m=\u001b[0m\u001b[0mpayload\u001b[0m\u001b[1;33m,\u001b[0m \u001b[0mheaders\u001b[0m \u001b[1;33m=\u001b[0m \u001b[0mheaders\u001b[0m\u001b[1;33m)\u001b[0m\u001b[1;33m\u001b[0m\u001b[1;33m\u001b[0m\u001b[0m\n",
      "\u001b[1;31mNameError\u001b[0m: name 'test_tweet' is not defined"
     ]
    }
   ],
   "source": [
    "payload = {\"sender\":\"pranali\",\"message\":test_tweet}\n",
    "headers = {'content-type': 'application/json'}\n",
    "r = requests.post('http://localhost:5005/webhooks/rest/webhook', json=payload, headers = headers)"
   ]
  },
  {
   "cell_type": "code",
   "execution_count": 25,
   "metadata": {},
   "outputs": [
    {
     "name": "stdout",
     "output_type": "stream",
     "text": [
      "Our free seats are limited and get occupied very quickly. You can choose auto-assign for free of cost seat or you can check-in at our airport counter where seats are assigned as per the availability. Please visit https://t.co/2dx6eHZYZI for more information.\n"
     ]
    }
   ],
   "source": [
    "for i in r.json():\n",
    "    bot_message = i['text']\n",
    "    print(f\"{i['text']}\")"
   ]
  },
  {
   "cell_type": "code",
   "execution_count": 4,
   "metadata": {},
   "outputs": [
    {
     "data": {
      "text/html": [
       "<div>\n",
       "<style scoped>\n",
       "    .dataframe tbody tr th:only-of-type {\n",
       "        vertical-align: middle;\n",
       "    }\n",
       "\n",
       "    .dataframe tbody tr th {\n",
       "        vertical-align: top;\n",
       "    }\n",
       "\n",
       "    .dataframe thead th {\n",
       "        text-align: right;\n",
       "    }\n",
       "</style>\n",
       "<table border=\"1\" class=\"dataframe\">\n",
       "  <thead>\n",
       "    <tr style=\"text-align: right;\">\n",
       "      <th></th>\n",
       "      <th>Tweet_ID</th>\n",
       "      <th>Test_Tweet</th>\n",
       "      <th>Response</th>\n",
       "    </tr>\n",
       "  </thead>\n",
       "  <tbody>\n",
       "  </tbody>\n",
       "</table>\n",
       "</div>"
      ],
      "text/plain": [
       "Empty DataFrame\n",
       "Columns: [Tweet_ID, Test_Tweet, Response]\n",
       "Index: []"
      ]
     },
     "execution_count": 4,
     "metadata": {},
     "output_type": "execute_result"
    }
   ],
   "source": [
    "tweet_response = pd.DataFrame(columns=['Tweet_ID','Test_Tweet', 'Response'])\n",
    "tweet_response"
   ]
  },
  {
   "cell_type": "code",
   "execution_count": 5,
   "metadata": {},
   "outputs": [],
   "source": [
    "headers = {'content-type': 'application/json'}"
   ]
  },
  {
   "cell_type": "code",
   "execution_count": 8,
   "metadata": {},
   "outputs": [],
   "source": [
    "for tweet in tweepy.Cursor(api.search, q='@IndiGo6E'+' -filter:retweets', lang=\"en\",tweet_mode='extended').items(1):\n",
    "    tweets = tweet.full_text\n",
    "    t_id = tweet.id\n",
    "    payload = {\"sender\":\"pranali\",\"message\":tweets}\n",
    "    r = requests.post('http://localhost:5005/webhooks/rest/webhook', json=payload, headers = headers)\n",
    "    for i in r.json():\n",
    "        bot_message = i['text']\n",
    "        tweet_response = tweet_response.append({'Tweet_ID': t_id, 'Test_Tweet': tweets, 'Response': bot_message}, ignore_index=True)\n"
   ]
  },
  {
   "cell_type": "code",
   "execution_count": 9,
   "metadata": {},
   "outputs": [
    {
     "data": {
      "text/plain": [
       "1311346719699787776"
      ]
     },
     "execution_count": 9,
     "metadata": {},
     "output_type": "execute_result"
    }
   ],
   "source": [
    "tweet.id"
   ]
  },
  {
   "cell_type": "code",
   "execution_count": 10,
   "metadata": {},
   "outputs": [
    {
     "data": {
      "text/plain": [
       "datetime.datetime(2020, 9, 30, 16, 46, 36)"
      ]
     },
     "execution_count": 10,
     "metadata": {},
     "output_type": "execute_result"
    }
   ],
   "source": [
    "tweet.created_at"
   ]
  },
  {
   "cell_type": "code",
   "execution_count": 11,
   "metadata": {},
   "outputs": [
    {
     "data": {
      "text/html": [
       "<div>\n",
       "<style scoped>\n",
       "    .dataframe tbody tr th:only-of-type {\n",
       "        vertical-align: middle;\n",
       "    }\n",
       "\n",
       "    .dataframe tbody tr th {\n",
       "        vertical-align: top;\n",
       "    }\n",
       "\n",
       "    .dataframe thead th {\n",
       "        text-align: right;\n",
       "    }\n",
       "</style>\n",
       "<table border=\"1\" class=\"dataframe\">\n",
       "  <thead>\n",
       "    <tr style=\"text-align: right;\">\n",
       "      <th></th>\n",
       "      <th>Tweet_ID</th>\n",
       "      <th>Test_Tweet</th>\n",
       "      <th>Response</th>\n",
       "    </tr>\n",
       "  </thead>\n",
       "  <tbody>\n",
       "    <tr>\n",
       "      <th>0</th>\n",
       "      <td>1311346719699787776</td>\n",
       "      <td>Same happened with me @IndiGo6E guys is holdin...</td>\n",
       "      <td>You may check the status here: https://t.co/s0...</td>\n",
       "    </tr>\n",
       "  </tbody>\n",
       "</table>\n",
       "</div>"
      ],
      "text/plain": [
       "              Tweet_ID                                         Test_Tweet  \\\n",
       "0  1311346719699787776  Same happened with me @IndiGo6E guys is holdin...   \n",
       "\n",
       "                                            Response  \n",
       "0  You may check the status here: https://t.co/s0...  "
      ]
     },
     "execution_count": 11,
     "metadata": {},
     "output_type": "execute_result"
    }
   ],
   "source": [
    "tweet_response.tail(10)"
   ]
  },
  {
   "cell_type": "code",
   "execution_count": 13,
   "metadata": {},
   "outputs": [],
   "source": [
    "tweet_response.to_csv(\"tweets_response_rasa_new.csv\",index=False)"
   ]
  },
  {
   "cell_type": "code",
   "execution_count": 14,
   "metadata": {},
   "outputs": [
    {
     "data": {
      "text/plain": [
       "(1, 3)"
      ]
     },
     "execution_count": 14,
     "metadata": {},
     "output_type": "execute_result"
    }
   ],
   "source": [
    "tweet_response.shape"
   ]
  },
  {
   "cell_type": "code",
   "execution_count": 119,
   "metadata": {},
   "outputs": [
    {
     "data": {
      "text/html": [
       "<div>\n",
       "<style scoped>\n",
       "    .dataframe tbody tr th:only-of-type {\n",
       "        vertical-align: middle;\n",
       "    }\n",
       "\n",
       "    .dataframe tbody tr th {\n",
       "        vertical-align: top;\n",
       "    }\n",
       "\n",
       "    .dataframe thead th {\n",
       "        text-align: right;\n",
       "    }\n",
       "</style>\n",
       "<table border=\"1\" class=\"dataframe\">\n",
       "  <thead>\n",
       "    <tr style=\"text-align: right;\">\n",
       "      <th></th>\n",
       "      <th>Tweet_ID</th>\n",
       "      <th>Test_Tweet</th>\n",
       "      <th>Response</th>\n",
       "    </tr>\n",
       "  </thead>\n",
       "  <tbody>\n",
       "  </tbody>\n",
       "</table>\n",
       "</div>"
      ],
      "text/plain": [
       "Empty DataFrame\n",
       "Columns: [Tweet_ID, Test_Tweet, Response]\n",
       "Index: []"
      ]
     },
     "execution_count": 119,
     "metadata": {},
     "output_type": "execute_result"
    }
   ],
   "source": [
    "temp_df = pd.DataFrame(columns=['Tweet_ID','Test_Tweet', 'Response'])\n",
    "temp_df"
   ]
  },
  {
   "cell_type": "code",
   "execution_count": 120,
   "metadata": {},
   "outputs": [
    {
     "data": {
      "text/plain": [
       "1309895286094008319"
      ]
     },
     "execution_count": 120,
     "metadata": {},
     "output_type": "execute_result"
    }
   ],
   "source": [
    "last_tweet_id = tweet.id - 1\n",
    "last_tweet_id"
   ]
  },
  {
   "cell_type": "code",
   "execution_count": 121,
   "metadata": {},
   "outputs": [
    {
     "data": {
      "text/plain": [
       "datetime.datetime(2020, 9, 26, 16, 39, 7)"
      ]
     },
     "execution_count": 121,
     "metadata": {},
     "output_type": "execute_result"
    }
   ],
   "source": [
    "tweet.created_at      # completed up to "
   ]
  },
  {
   "cell_type": "code",
   "execution_count": 113,
   "metadata": {},
   "outputs": [],
   "source": [
    "for tweet in tweepy.Cursor(api.search, q='@IndiGo6E'+' -filter:retweets', lang=\"en\",tweet_mode='extended', max_id = last_tweet_id ).items(100):\n",
    "    if not tweet.in_reply_to_status_id_str:\n",
    "        tweets = tweet.full_text\n",
    "        t_id = tweet.id\n",
    "        payload = {\"sender\":\"pranali\",\"message\":tweets}\n",
    "        r = requests.post('http://localhost:5005/webhooks/rest/webhook', json=payload, headers = headers)\n",
    "        for i in r.json():\n",
    "            bot_message = i['text']\n",
    "            temp_df = temp_df.append({'Tweet_ID': t_id,'Test_Tweet': tweets, 'Response': bot_message}, ignore_index=True)\n"
   ]
  },
  {
   "cell_type": "code",
   "execution_count": 114,
   "metadata": {},
   "outputs": [
    {
     "data": {
      "text/html": [
       "<div>\n",
       "<style scoped>\n",
       "    .dataframe tbody tr th:only-of-type {\n",
       "        vertical-align: middle;\n",
       "    }\n",
       "\n",
       "    .dataframe tbody tr th {\n",
       "        vertical-align: top;\n",
       "    }\n",
       "\n",
       "    .dataframe thead th {\n",
       "        text-align: right;\n",
       "    }\n",
       "</style>\n",
       "<table border=\"1\" class=\"dataframe\">\n",
       "  <thead>\n",
       "    <tr style=\"text-align: right;\">\n",
       "      <th></th>\n",
       "      <th>Tweet_ID</th>\n",
       "      <th>Test_Tweet</th>\n",
       "      <th>Response</th>\n",
       "    </tr>\n",
       "  </thead>\n",
       "  <tbody>\n",
       "    <tr>\n",
       "      <th>0</th>\n",
       "      <td>1311346719699787776</td>\n",
       "      <td>Same happened with me @IndiGo6E guys is holdin...</td>\n",
       "      <td>You may check the status here: https://t.co/s0...</td>\n",
       "    </tr>\n",
       "    <tr>\n",
       "      <th>1</th>\n",
       "      <td>1311344320889327616</td>\n",
       "      <td>@IndiGo6E Two of my friends are travelling fro...</td>\n",
       "      <td>Out of scope</td>\n",
       "    </tr>\n",
       "    <tr>\n",
       "      <th>2</th>\n",
       "      <td>1311342551249481728</td>\n",
       "      <td>For my credit shell with @IndiGo6E flight is a...</td>\n",
       "      <td>Please send your PNR via DM</td>\n",
       "    </tr>\n",
       "    <tr>\n",
       "      <th>3</th>\n",
       "      <td>1311342362279378951</td>\n",
       "      <td>Namaste Campaign at the airport by Indigo airl...</td>\n",
       "      <td>Out of scope</td>\n",
       "    </tr>\n",
       "    <tr>\n",
       "      <th>4</th>\n",
       "      <td>1311341194870358016</td>\n",
       "      <td>Memory at #Agartala Airport....expecting fligh...</td>\n",
       "      <td>Out of scope</td>\n",
       "    </tr>\n",
       "    <tr>\n",
       "      <th>...</th>\n",
       "      <td>...</td>\n",
       "      <td>...</td>\n",
       "      <td>...</td>\n",
       "    </tr>\n",
       "    <tr>\n",
       "      <th>608</th>\n",
       "      <td>1310091830575284225</td>\n",
       "      <td>@goibibo  Thanks Team for working and refundin...</td>\n",
       "      <td>Welcome!</td>\n",
       "    </tr>\n",
       "    <tr>\n",
       "      <th>609</th>\n",
       "      <td>1310091646747291649</td>\n",
       "      <td>@IndiGo6E @goibibo Can you please let me know ...</td>\n",
       "      <td>Can I please know your Surname?</td>\n",
       "    </tr>\n",
       "    <tr>\n",
       "      <th>610</th>\n",
       "      <td>1310086529180598272</td>\n",
       "      <td>@IndiGo6E is it possible to anyone complete th...</td>\n",
       "      <td>Out of scope</td>\n",
       "    </tr>\n",
       "    <tr>\n",
       "      <th>611</th>\n",
       "      <td>1310084648261672961</td>\n",
       "      <td>Dear Sir,\\nAs the ban is lifted now to China. ...</td>\n",
       "      <td>Out of scope</td>\n",
       "    </tr>\n",
       "    <tr>\n",
       "      <th>612</th>\n",
       "      <td>1310083219858038785</td>\n",
       "      <td>With the recent Terminal Change information by...</td>\n",
       "      <td>Out of scope</td>\n",
       "    </tr>\n",
       "  </tbody>\n",
       "</table>\n",
       "<p>613 rows × 3 columns</p>\n",
       "</div>"
      ],
      "text/plain": [
       "                Tweet_ID                                         Test_Tweet  \\\n",
       "0    1311346719699787776  Same happened with me @IndiGo6E guys is holdin...   \n",
       "1    1311344320889327616  @IndiGo6E Two of my friends are travelling fro...   \n",
       "2    1311342551249481728  For my credit shell with @IndiGo6E flight is a...   \n",
       "3    1311342362279378951  Namaste Campaign at the airport by Indigo airl...   \n",
       "4    1311341194870358016  Memory at #Agartala Airport....expecting fligh...   \n",
       "..                   ...                                                ...   \n",
       "608  1310091830575284225  @goibibo  Thanks Team for working and refundin...   \n",
       "609  1310091646747291649  @IndiGo6E @goibibo Can you please let me know ...   \n",
       "610  1310086529180598272  @IndiGo6E is it possible to anyone complete th...   \n",
       "611  1310084648261672961  Dear Sir,\\nAs the ban is lifted now to China. ...   \n",
       "612  1310083219858038785  With the recent Terminal Change information by...   \n",
       "\n",
       "                                              Response  \n",
       "0    You may check the status here: https://t.co/s0...  \n",
       "1                                         Out of scope  \n",
       "2                          Please send your PNR via DM  \n",
       "3                                         Out of scope  \n",
       "4                                         Out of scope  \n",
       "..                                                 ...  \n",
       "608                                           Welcome!  \n",
       "609                    Can I please know your Surname?  \n",
       "610                                       Out of scope  \n",
       "611                                       Out of scope  \n",
       "612                                       Out of scope  \n",
       "\n",
       "[613 rows x 3 columns]"
      ]
     },
     "execution_count": 114,
     "metadata": {},
     "output_type": "execute_result"
    }
   ],
   "source": [
    "df = pd.read_csv(\"tweets_response_rasa_new.csv\")\n",
    "df"
   ]
  },
  {
   "cell_type": "code",
   "execution_count": 115,
   "metadata": {},
   "outputs": [],
   "source": [
    "tweet_response = df.append(temp_df,ignore_index=True)"
   ]
  },
  {
   "cell_type": "code",
   "execution_count": 116,
   "metadata": {},
   "outputs": [
    {
     "data": {
      "text/html": [
       "<div>\n",
       "<style scoped>\n",
       "    .dataframe tbody tr th:only-of-type {\n",
       "        vertical-align: middle;\n",
       "    }\n",
       "\n",
       "    .dataframe tbody tr th {\n",
       "        vertical-align: top;\n",
       "    }\n",
       "\n",
       "    .dataframe thead th {\n",
       "        text-align: right;\n",
       "    }\n",
       "</style>\n",
       "<table border=\"1\" class=\"dataframe\">\n",
       "  <thead>\n",
       "    <tr style=\"text-align: right;\">\n",
       "      <th></th>\n",
       "      <th>Tweet_ID</th>\n",
       "      <th>Test_Tweet</th>\n",
       "      <th>Response</th>\n",
       "    </tr>\n",
       "  </thead>\n",
       "  <tbody>\n",
       "    <tr>\n",
       "      <th>0</th>\n",
       "      <td>1311346719699787776</td>\n",
       "      <td>Same happened with me @IndiGo6E guys is holdin...</td>\n",
       "      <td>You may check the status here: https://t.co/s0...</td>\n",
       "    </tr>\n",
       "    <tr>\n",
       "      <th>1</th>\n",
       "      <td>1311344320889327616</td>\n",
       "      <td>@IndiGo6E Two of my friends are travelling fro...</td>\n",
       "      <td>Out of scope</td>\n",
       "    </tr>\n",
       "    <tr>\n",
       "      <th>2</th>\n",
       "      <td>1311342551249481728</td>\n",
       "      <td>For my credit shell with @IndiGo6E flight is a...</td>\n",
       "      <td>Please send your PNR via DM</td>\n",
       "    </tr>\n",
       "    <tr>\n",
       "      <th>3</th>\n",
       "      <td>1311342362279378951</td>\n",
       "      <td>Namaste Campaign at the airport by Indigo airl...</td>\n",
       "      <td>Out of scope</td>\n",
       "    </tr>\n",
       "    <tr>\n",
       "      <th>4</th>\n",
       "      <td>1311341194870358016</td>\n",
       "      <td>Memory at #Agartala Airport....expecting fligh...</td>\n",
       "      <td>Out of scope</td>\n",
       "    </tr>\n",
       "    <tr>\n",
       "      <th>...</th>\n",
       "      <td>...</td>\n",
       "      <td>...</td>\n",
       "      <td>...</td>\n",
       "    </tr>\n",
       "    <tr>\n",
       "      <th>653</th>\n",
       "      <td>1309904592751058944</td>\n",
       "      <td>Do flights available from nagpur to pune ?\\n@I...</td>\n",
       "      <td>You may check the status here: https://t.co/s0...</td>\n",
       "    </tr>\n",
       "    <tr>\n",
       "      <th>654</th>\n",
       "      <td>1309901277040644097</td>\n",
       "      <td>@IndiGo6E MHLHQC booking reference has been ca...</td>\n",
       "      <td>Can I please know your Surname?</td>\n",
       "    </tr>\n",
       "    <tr>\n",
       "      <th>655</th>\n",
       "      <td>1309900658779107329</td>\n",
       "      <td>Hey @IndiGo6E is there an age limit on traveli...</td>\n",
       "      <td>Out of scope</td>\n",
       "    </tr>\n",
       "    <tr>\n",
       "      <th>656</th>\n",
       "      <td>1309895982562250753</td>\n",
       "      <td>@IndiGo6E  Just completed my flight in 6E488.....</td>\n",
       "      <td>Welcome!</td>\n",
       "    </tr>\n",
       "    <tr>\n",
       "      <th>657</th>\n",
       "      <td>1309895863012134912</td>\n",
       "      <td>@IndiGo6E I have booked air ticket for traveli...</td>\n",
       "      <td>Please send your PNR via DM</td>\n",
       "    </tr>\n",
       "  </tbody>\n",
       "</table>\n",
       "<p>658 rows × 3 columns</p>\n",
       "</div>"
      ],
      "text/plain": [
       "                Tweet_ID                                         Test_Tweet  \\\n",
       "0    1311346719699787776  Same happened with me @IndiGo6E guys is holdin...   \n",
       "1    1311344320889327616  @IndiGo6E Two of my friends are travelling fro...   \n",
       "2    1311342551249481728  For my credit shell with @IndiGo6E flight is a...   \n",
       "3    1311342362279378951  Namaste Campaign at the airport by Indigo airl...   \n",
       "4    1311341194870358016  Memory at #Agartala Airport....expecting fligh...   \n",
       "..                   ...                                                ...   \n",
       "653  1309904592751058944  Do flights available from nagpur to pune ?\\n@I...   \n",
       "654  1309901277040644097  @IndiGo6E MHLHQC booking reference has been ca...   \n",
       "655  1309900658779107329  Hey @IndiGo6E is there an age limit on traveli...   \n",
       "656  1309895982562250753  @IndiGo6E  Just completed my flight in 6E488.....   \n",
       "657  1309895863012134912  @IndiGo6E I have booked air ticket for traveli...   \n",
       "\n",
       "                                              Response  \n",
       "0    You may check the status here: https://t.co/s0...  \n",
       "1                                         Out of scope  \n",
       "2                          Please send your PNR via DM  \n",
       "3                                         Out of scope  \n",
       "4                                         Out of scope  \n",
       "..                                                 ...  \n",
       "653  You may check the status here: https://t.co/s0...  \n",
       "654                    Can I please know your Surname?  \n",
       "655                                       Out of scope  \n",
       "656                                           Welcome!  \n",
       "657                        Please send your PNR via DM  \n",
       "\n",
       "[658 rows x 3 columns]"
      ]
     },
     "execution_count": 116,
     "metadata": {},
     "output_type": "execute_result"
    }
   ],
   "source": [
    "tweet_response"
   ]
  },
  {
   "cell_type": "code",
   "execution_count": 117,
   "metadata": {},
   "outputs": [
    {
     "data": {
      "text/html": [
       "<div>\n",
       "<style scoped>\n",
       "    .dataframe tbody tr th:only-of-type {\n",
       "        vertical-align: middle;\n",
       "    }\n",
       "\n",
       "    .dataframe tbody tr th {\n",
       "        vertical-align: top;\n",
       "    }\n",
       "\n",
       "    .dataframe thead th {\n",
       "        text-align: right;\n",
       "    }\n",
       "</style>\n",
       "<table border=\"1\" class=\"dataframe\">\n",
       "  <thead>\n",
       "    <tr style=\"text-align: right;\">\n",
       "      <th></th>\n",
       "      <th>Tweet_ID</th>\n",
       "      <th>Test_Tweet</th>\n",
       "      <th>Response</th>\n",
       "    </tr>\n",
       "  </thead>\n",
       "  <tbody>\n",
       "    <tr>\n",
       "      <th>197</th>\n",
       "      <td>1310976989902241792</td>\n",
       "      <td>@IndiGo6E  hi i am flying to dehradun from mum...</td>\n",
       "      <td>trimmer is allowed in both cabin or check in l...</td>\n",
       "    </tr>\n",
       "  </tbody>\n",
       "</table>\n",
       "</div>"
      ],
      "text/plain": [
       "                Tweet_ID                                         Test_Tweet  \\\n",
       "197  1310976989902241792  @IndiGo6E  hi i am flying to dehradun from mum...   \n",
       "\n",
       "                                              Response  \n",
       "197  trimmer is allowed in both cabin or check in l...  "
      ]
     },
     "execution_count": 117,
     "metadata": {},
     "output_type": "execute_result"
    }
   ],
   "source": [
    "tweet_response[tweet_response.duplicated()]"
   ]
  },
  {
   "cell_type": "code",
   "execution_count": 118,
   "metadata": {},
   "outputs": [],
   "source": [
    "tweet_response.to_csv(\"tweets_response_rasa_new.csv\", index = False)"
   ]
  },
  {
   "cell_type": "code",
   "execution_count": null,
   "metadata": {},
   "outputs": [],
   "source": []
  },
  {
   "cell_type": "code",
   "execution_count": 122,
   "metadata": {},
   "outputs": [],
   "source": [
    "tweet_response_new = pd.read_csv(\"tweets_response_rasa_new.csv\")"
   ]
  },
  {
   "cell_type": "code",
   "execution_count": 123,
   "metadata": {},
   "outputs": [],
   "source": [
    "result = tweet_response_new[tweet_response_new['Response']=='Out of scope']"
   ]
  },
  {
   "cell_type": "code",
   "execution_count": 124,
   "metadata": {},
   "outputs": [
    {
     "data": {
      "text/plain": [
       "(349, 3)"
      ]
     },
     "execution_count": 124,
     "metadata": {},
     "output_type": "execute_result"
    }
   ],
   "source": [
    "result.shape"
   ]
  },
  {
   "cell_type": "code",
   "execution_count": 125,
   "metadata": {},
   "outputs": [
    {
     "data": {
      "text/plain": [
       "(658, 3)"
      ]
     },
     "execution_count": 125,
     "metadata": {},
     "output_type": "execute_result"
    }
   ],
   "source": [
    "tweet_response_new.shape"
   ]
  },
  {
   "cell_type": "code",
   "execution_count": null,
   "metadata": {},
   "outputs": [],
   "source": []
  },
  {
   "cell_type": "code",
   "execution_count": null,
   "metadata": {},
   "outputs": [],
   "source": []
  },
  {
   "cell_type": "code",
   "execution_count": null,
   "metadata": {},
   "outputs": [],
   "source": []
  },
  {
   "cell_type": "code",
   "execution_count": null,
   "metadata": {},
   "outputs": [],
   "source": []
  },
  {
   "cell_type": "code",
   "execution_count": null,
   "metadata": {},
   "outputs": [],
   "source": []
  }
 ],
 "metadata": {
  "kernelspec": {
   "display_name": "Python 3",
   "language": "python",
   "name": "python3"
  },
  "language_info": {
   "codemirror_mode": {
    "name": "ipython",
    "version": 3
   },
   "file_extension": ".py",
   "mimetype": "text/x-python",
   "name": "python",
   "nbconvert_exporter": "python",
   "pygments_lexer": "ipython3",
   "version": "3.7.7"
  }
 },
 "nbformat": 4,
 "nbformat_minor": 4
}
